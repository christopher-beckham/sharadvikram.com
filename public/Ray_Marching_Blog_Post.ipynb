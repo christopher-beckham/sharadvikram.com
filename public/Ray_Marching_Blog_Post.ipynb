{
  "nbformat": 4,
  "nbformat_minor": 0,
  "metadata": {
    "colab": {
      "name": "Ray Marching Blog Post",
      "provenance": [],
      "collapsed_sections": []
    },
    "kernelspec": {
      "name": "python3",
      "display_name": "Python 3"
    }
  },
  "cells": [
    {
      "cell_type": "markdown",
      "metadata": {
        "id": "Okt7kD9AJYvH",
        "colab_type": "text"
      },
      "source": [
        "# Building a JAX ray marching rendering engine\n",
        "7/14/20\n",
        "<br/>\n",
        "<br/>\n",
        "<br/>"
      ]
    },
    {
      "cell_type": "markdown",
      "metadata": {
        "id": "JEhWbXp9SFP6",
        "colab_type": "text"
      },
      "source": [
        "A rendering engine is essentially something that converts a scene into an image.\n",
        "In this post, we'll be building one using the *ray marching* algorithm.\n",
        "\n",
        "<table class=\"notebook-buttons\">\n",
        "  <td>\n",
        "    <a target=\"_blank\" href=\"https://colab.research.google.com/github/tensorflow/sharadvikram.com/blob/master/public/Ray_Marching_Blog_Post.ipynb\"\"><img src=\"https://www.tensorflow.org/images/colab_logo_32px.png\" />Run in Google Colab</a>\n",
        "  </td>\n",
        "  <td>\n",
        "    <a target=\"_blank\" href=\"https://github.com/sharadmv/sharadvikram.com/blob/master/public/Ray_Marching_Blog_Post.ipynb\"><img src=\"https://www.tensorflow.org/images/GitHub-Mark-32px.png\" />View source on GitHub</a>\n",
        "  </td>\n",
        "</table>"
      ]
    },
    {
      "cell_type": "markdown",
      "metadata": {
        "id": "aw7gcw0cJeAU",
        "colab_type": "text"
      },
      "source": [
        "## Setup"
      ]
    },
    {
      "cell_type": "code",
      "metadata": {
        "id": "7J9FVN7bH3QO",
        "colab_type": "code",
        "colab": {}
      },
      "source": [
        "!pip install jax jaxlib --upgrade -q"
      ],
      "execution_count": null,
      "outputs": []
    },
    {
      "cell_type": "code",
      "metadata": {
        "id": "DXb9JAwHJdLb",
        "colab_type": "code",
        "colab": {}
      },
      "source": [
        "import abc\n",
        "from functools import partial\n",
        "from typing import Any, List\n",
        "\n",
        "import dataclasses\n",
        "import jax\n",
        "from jax import jit, vmap, grad, lax\n",
        "import jax.numpy as jnp\n",
        "import matplotlib.pyplot as plt\n",
        "\n",
        "Vector = Point = Color = Scalar = Image = Any"
      ],
      "execution_count": null,
      "outputs": []
    },
    {
      "cell_type": "markdown",
      "metadata": {
        "id": "SFccy7iOS8gU",
        "colab_type": "text"
      },
      "source": [
        "## Introduction"
      ]
    },
    {
      "cell_type": "markdown",
      "metadata": {
        "id": "4jgih2B7UhZc",
        "colab_type": "text"
      },
      "source": [
        "### What is JAX?"
      ]
    },
    {
      "cell_type": "markdown",
      "metadata": {
        "id": "dIVbB_PfS-DV",
        "colab_type": "text"
      },
      "source": [
        "## Building a scene"
      ]
    },
    {
      "cell_type": "code",
      "metadata": {
        "id": "RdLvB4NNT8YS",
        "colab_type": "code",
        "colab": {}
      },
      "source": [
        "def normalize(x):\n",
        "  return x / jnp.linalg.norm(x)\n",
        "  \n",
        "def color_from_hex(x):\n",
        "  return jnp.array([int(x[1:3], 16), int(x[3:5], 16), int(x[5:], 16)]) / 255."
      ],
      "execution_count": null,
      "outputs": []
    },
    {
      "cell_type": "markdown",
      "metadata": {
        "id": "wvVOTQJiTBnj",
        "colab_type": "text"
      },
      "source": [
        "## Primitives"
      ]
    },
    {
      "cell_type": "code",
      "metadata": {
        "id": "9u-xuWtMh-re",
        "colab_type": "code",
        "colab": {}
      },
      "source": [
        "@dataclasses.dataclass\n",
        "class Material:\n",
        "  color: Color = jnp.array([1., 0., 0.])\n",
        "  diffuse: float = 1.0\n",
        "  specular: float = 1.0\n",
        "  reflection: float = 0.05"
      ],
      "execution_count": null,
      "outputs": []
    },
    {
      "cell_type": "code",
      "metadata": {
        "id": "Z-wn5fSTS7NQ",
        "colab_type": "code",
        "colab": {}
      },
      "source": [
        "class Renderable(metaclass=abc.ABCMeta):\n",
        "\n",
        "  @abc.abstractmethod\n",
        "  def material_at(self, point: Point) -> Material:\n",
        "    pass\n",
        "\n",
        "  @abc.abstractmethod\n",
        "  def sdf(self, point: Point) -> Scalar:\n",
        "    pass\n",
        "  \n",
        "  def normal(self, point: Point) -> Vector:\n",
        "    return grad(self.sdf)(point)"
      ],
      "execution_count": null,
      "outputs": []
    },
    {
      "cell_type": "code",
      "metadata": {
        "id": "CuX8wYOeTWS6",
        "colab_type": "code",
        "colab": {}
      },
      "source": [
        "@dataclasses.dataclass\n",
        "class Sphere(Renderable):\n",
        "  radius: float\n",
        "  material: Material = Material()\n",
        "\n",
        "  def material_at(self, point):\n",
        "    return self.material\n",
        "\n",
        "  def sdf(self, point):\n",
        "    return jnp.linalg.norm(point) - self.radius"
      ],
      "execution_count": null,
      "outputs": []
    },
    {
      "cell_type": "code",
      "metadata": {
        "id": "MneS6UwjWSfb",
        "colab_type": "code",
        "colab": {}
      },
      "source": [
        "@dataclasses.dataclass\n",
        "class Ray:\n",
        "  point: Point\n",
        "  direction: Vector\n",
        "\n",
        "  def normalize(self):\n",
        "    return Ray(self.point, self.direction / jnp.linalg.norm(self.direction))\n",
        "\n",
        "\n",
        "@dataclasses.dataclass\n",
        "class Light:\n",
        "  point: Point\n",
        "  color: Color"
      ],
      "execution_count": 225,
      "outputs": []
    },
    {
      "cell_type": "markdown",
      "metadata": {
        "id": "nIAoqFLqFtnY",
        "colab_type": "text"
      },
      "source": [
        "Latex test\n",
        "$$\n",
        "f(x) = x^2\n",
        "$$"
      ]
    },
    {
      "cell_type": "code",
      "metadata": {
        "id": "hvanXLqaHtYq",
        "colab_type": "code",
        "colab": {
          "base_uri": "https://localhost:8080/",
          "height": 53
        },
        "outputId": "ac53a4f7-164e-434c-998c-de0dff5d22da"
      },
      "source": [
        "print('hello')\n",
        "print('world')"
      ],
      "execution_count": 226,
      "outputs": [
        {
          "output_type": "stream",
          "text": [
            "hello\n",
            "world\n"
          ],
          "name": "stdout"
        }
      ]
    },
    {
      "cell_type": "code",
      "metadata": {
        "id": "nwc3_PBR_H1a",
        "colab_type": "code",
        "colab": {}
      },
      "source": [
        "jax.tree_util.register_pytree_node(\n",
        "  Ray,\n",
        "  lambda ray: ((ray.point, ray.direction), ()),\n",
        "  lambda _, xs: Ray(*xs)\n",
        ")\n",
        "\n",
        "\n",
        "jax.tree_util.register_pytree_node(\n",
        "  Light,\n",
        "  lambda light: ((light.point, light.color), ()),\n",
        "  lambda _, xs: Light(*xs)\n",
        ")"
      ],
      "execution_count": 223,
      "outputs": []
    },
    {
      "cell_type": "code",
      "metadata": {
        "id": "FLIeatmFUf9R",
        "colab_type": "code",
        "colab": {}
      },
      "source": [
        "@dataclasses.dataclass\n",
        "class Scene:\n",
        "  obj: Renderable\n",
        "  lights: Light\n",
        "  width: int = 640\n",
        "  height: int = 480\n",
        "  camera_distance: float = 1.\n",
        "\n",
        "  def default_color(self, ray: Ray) -> Color:\n",
        "    ray = ray.normalize()\n",
        "    t = 0.5 * (ray.direction[1] + 1.0)\n",
        "    return (1 - t) * jnp.ones(3) + t * color_from_hex('#87C1FF')"
      ],
      "execution_count": null,
      "outputs": []
    },
    {
      "cell_type": "code",
      "metadata": {
        "id": "VJnyvtc7V50P",
        "colab_type": "code",
        "colab": {}
      },
      "source": [
        "@dataclasses.dataclass\n",
        "class SimpleRenderingEngine:\n",
        "  max_bounces: int = 5\n",
        "  max_steps: int = 100\n",
        "  collision_tolerance: float = 1e-3\n",
        "\n",
        "  def render(self, scene: Scene) -> Image:\n",
        "    pixel_grid = self.get_pixel_grid(scene)\n",
        "    # Do a double vmap to render each pixel\n",
        "    return jit(vmap(vmap(partial(self.render_pixel, scene))))(pixel_grid)\n",
        "\n",
        "  def get_pixel_grid(self, scene: Scene) -> Any:\n",
        "    aspect_ratio = scene.width / scene.height\n",
        "    x = jnp.linspace(-1., 1., scene.width)\n",
        "    y = jnp.linspace(1 / aspect_ratio, -1. / aspect_ratio, scene.height)\n",
        "    X, Y = jnp.meshgrid(x, y)\n",
        "    return X, Y\n",
        "  \n",
        "  def render_pixel(self, scene, pixel):\n",
        "    x, y = pixel\n",
        "    camera_origin = jnp.array([0., 0., -scene.camera_distance])\n",
        "    camera_direction = jnp.array([x, y, 0.]) - camera_origin\n",
        "    ray = Ray(camera_origin, camera_direction).normalize()\n",
        "    return self.march(ray, scene)\n",
        "\n",
        "  def march(self, ray: Ray, scene: Scene, depth: int = 0) -> Color:\n",
        "    def body(carry):\n",
        "      ray, distance, step_count = carry\n",
        "      new_ray = Ray(ray.point + distance * ray.direction, ray.direction)\n",
        "      new_distance = scene.obj.sdf(new_ray.point)\n",
        "      return new_ray, new_distance, step_count + 1\n",
        "    def cond(carry):\n",
        "      _, distance, step_count = carry\n",
        "      return (distance > self.collision_tolerance) & (step_count < self.max_steps)\n",
        "    initial_distance = scene.obj.sdf(ray.point)\n",
        "    final_ray, final_distance, _ = lax.while_loop(\n",
        "        cond, body, (ray, initial_distance, 0))\n",
        "    color = jnp.where(\n",
        "        final_distance < self.collision_tolerance,\n",
        "        self.color_at(final_ray, scene),\n",
        "        scene.default_color(final_ray)\n",
        "    )\n",
        "    return color\n",
        "\n",
        "  def color_at(self, ray: Ray, scene: Scene) -> Color:\n",
        "    return scene.obj.material_at(ray.point).color"
      ],
      "execution_count": null,
      "outputs": []
    },
    {
      "cell_type": "code",
      "metadata": {
        "id": "oAvyMMRLYbW0",
        "colab_type": "code",
        "colab": {}
      },
      "source": [
        "scene = Scene(Sphere(0.5), Light(jnp.array([[0., 1., -2.]]), jnp.array([[0., 0., 0.]])))"
      ],
      "execution_count": null,
      "outputs": []
    },
    {
      "cell_type": "code",
      "metadata": {
        "id": "DnXzydJChRLz",
        "colab_type": "code",
        "colab": {
          "base_uri": "https://localhost:8080/",
          "height": 449
        },
        "outputId": "442f3d74-9517-4b6d-93f6-6a09fa24b98f"
      },
      "source": [
        "engine = SimpleRenderingEngine()\n",
        "plt.figure(figsize=(10, 10))\n",
        "plt.axis('off')\n",
        "plt.imshow(engine.render(scene));"
      ],
      "execution_count": 221,
      "outputs": [
        {
          "output_type": "display_data",
          "data": {
            "image/png": "[encoded data removed]",
            "text/plain": [
              "<Figure size 720x720 with 1 Axes>"
            ]
          },
          "metadata": {
            "tags": [],
            "needs_background": "light"
          }
        }
      ]
    },
    {
      "cell_type": "code",
      "metadata": {
        "id": "4CPDRlZjhMOd",
        "colab_type": "code",
        "colab": {}
      },
      "source": [
        "class FancyRenderingEngine(SimpleRenderingEngine):\n",
        "\n",
        "  def color_at(self, ray: Ray, scene: Scene) -> Color:\n",
        "    hit_point = ray.point\n",
        "    hit_normal = scene.obj.normal(hit_point)\n",
        "    material = scene.obj.material_at(hit_point)\n",
        "    obj_color = material.color\n",
        "    camera_vec = jnp.array([0., 0., -scene.camera_distance]) - hit_point\n",
        "    base_color = jnp.array([0., 0., 0.])\n",
        "    light_rays = vmap(lambda light: Ray(hit_point, light.point - hit_point).normalize())(scene.lights)\n",
        "    lambert = vmap(lambda light_ray: obj_color * material.diffuse * jnp.maximum(\n",
        "      hit_normal.dot(light_ray.direction), 0.\n",
        "    ))(light_rays)\n",
        "    half_vecs = vmap(lambda light_ray: normalize(light_ray.direction + camera_vec))(light_rays)\n",
        "    specular = vmap(lambda light, half_vec: light.color * material.specular * jnp.maximum(\n",
        "      hit_normal.dot(half_vec), 0.\n",
        "    ) ** 50)(scene.lights, half_vecs)\n",
        "    return (base_color + jnp.sum(specular, axis=0) + jnp.sum(lambert, axis=0))"
      ],
      "execution_count": null,
      "outputs": []
    },
    {
      "cell_type": "code",
      "metadata": {
        "id": "wJ9bhboIajIg",
        "colab_type": "code",
        "colab": {
          "base_uri": "https://localhost:8080/",
          "height": 449
        },
        "outputId": "ad1f7e21-0c48-4363-f0e8-6c51cde635df"
      },
      "source": [
        "engine = FancyRenderingEngine()\n",
        "plt.figure(figsize=(10, 10))\n",
        "plt.axis('off')\n",
        "plt.imshow(engine.render(scene));"
      ],
      "execution_count": null,
      "outputs": [
        {
          "output_type": "display_data",
          "data": {
            "image/png": "[encoded data removed]",
            "text/plain": [
              "<Figure size 720x720 with 1 Axes>"
            ]
          },
          "metadata": {
            "tags": [],
            "needs_background": "light"
          }
        }
      ]
    }
  ]
}